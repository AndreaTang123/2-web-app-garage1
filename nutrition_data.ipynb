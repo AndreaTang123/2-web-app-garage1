{
 "cells": [
  {
   "cell_type": "code",
   "execution_count": 2,
   "id": "1d115507-394d-45bf-bb02-8946b1823834",
   "metadata": {},
   "outputs": [],
   "source": [
    "import requests"
   ]
  },
  {
   "cell_type": "code",
   "execution_count": 34,
   "id": "c5030a63-c89e-41e9-864a-ca58c546d53a",
   "metadata": {},
   "outputs": [
    {
     "data": {
      "text/plain": [
       "[{'name': 'apple',\n",
       "  'calories': 'Only available for premium subscribers.',\n",
       "  'serving_size_g': 'Only available for premium subscribers.',\n",
       "  'fat_total_g': 0.3,\n",
       "  'fat_saturated_g': 0.1,\n",
       "  'protein_g': 'Only available for premium subscribers.',\n",
       "  'sodium_mg': 1,\n",
       "  'potassium_mg': 20,\n",
       "  'cholesterol_mg': 0,\n",
       "  'carbohydrates_total_g': 25.6,\n",
       "  'fiber_g': 4.3,\n",
       "  'sugar_g': 18.8},\n",
       " {'name': 'bread',\n",
       "  'calories': 'Only available for premium subscribers.',\n",
       "  'serving_size_g': 'Only available for premium subscribers.',\n",
       "  'fat_total_g': 2.0,\n",
       "  'fat_saturated_g': 0.4,\n",
       "  'protein_g': 'Only available for premium subscribers.',\n",
       "  'sodium_mg': 287,\n",
       "  'potassium_mg': 56,\n",
       "  'cholesterol_mg': 0,\n",
       "  'carbohydrates_total_g': 29.1,\n",
       "  'fiber_g': 1.6,\n",
       "  'sugar_g': 3.3},\n",
       " {'name': 'black coffee',\n",
       "  'calories': 'Only available for premium subscribers.',\n",
       "  'serving_size_g': 'Only available for premium subscribers.',\n",
       "  'fat_total_g': 0.2,\n",
       "  'fat_saturated_g': 0.0,\n",
       "  'protein_g': 'Only available for premium subscribers.',\n",
       "  'sodium_mg': 15,\n",
       "  'potassium_mg': 22,\n",
       "  'cholesterol_mg': 0,\n",
       "  'carbohydrates_total_g': 0.0,\n",
       "  'fiber_g': 0.0,\n",
       "  'sugar_g': 0.0}]"
      ]
     },
     "execution_count": 34,
     "metadata": {},
     "output_type": "execute_result"
    }
   ],
   "source": [
    "# query = 'Tortilla Española'\n",
    "# query = 'Dim Sum'\n",
    "# query = 'Kung Pao chicken'\n",
    "# query = '500g sukiyaki'\n",
    "# query = '1kg short rib'\n",
    "# query = '1oz milk and water'\n",
    "# query = '200g pad thai'\n",
    "# query = 'pad thai'\n",
    "# query = 'Enchiladas'\n",
    "# query = '50g mochi'\n",
    "# query = 'unagi'\n",
    "# query = 'Full English Breakfast'\n",
    "# query = 'Moussaka'\n",
    "query = '1 apple 2 bread and three cups of black coffee'\n",
    "\n",
    "\n",
    "api_url = 'https://api.api-ninjas.com/v1/nutrition?query={}'.format(query)\n",
    "response = requests.get(api_url, headers={'X-Api-Key': '3/8OcZmswlIcnvOJgeDsig==wroCzK0qvIl8W7XM'})\n",
    "\n",
    "response.json()"
   ]
  },
  {
   "cell_type": "code",
   "execution_count": null,
   "id": "7e947f9e-a353-4f90-a91c-f8701aa2ca5f",
   "metadata": {},
   "outputs": [],
   "source": []
  }
 ],
 "metadata": {
  "kernelspec": {
   "display_name": "Python 3 (ipykernel)",
   "language": "python",
   "name": "python3"
  },
  "language_info": {
   "codemirror_mode": {
    "name": "ipython",
    "version": 3
   },
   "file_extension": ".py",
   "mimetype": "text/x-python",
   "name": "python",
   "nbconvert_exporter": "python",
   "pygments_lexer": "ipython3",
   "version": "3.11.1"
  }
 },
 "nbformat": 4,
 "nbformat_minor": 5
}
