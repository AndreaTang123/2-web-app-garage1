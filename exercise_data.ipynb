{
 "cells": [
  {
   "cell_type": "code",
   "execution_count": 40,
   "id": "649981ad-7b1f-4ef8-a48e-2c27bbfc1e1c",
   "metadata": {},
   "outputs": [],
   "source": [
    "import re\n",
    "import os\n",
    "import json\n",
    "import random\n",
    "import requests\n",
    "from pathlib import Path"
   ]
  },
  {
   "cell_type": "code",
   "execution_count": 2,
   "id": "5bb631cc-006a-4446-99ee-1b339145f547",
   "metadata": {},
   "outputs": [
    {
     "name": "stdout",
     "output_type": "stream",
     "text": [
      "/mnt/c/Users/alex2/Documents/cs474/project/2-web-app-garage1\n"
     ]
    }
   ],
   "source": [
    "%%bash\n",
    "pwd"
   ]
  },
  {
   "cell_type": "code",
   "execution_count": 3,
   "id": "4ef7b9b1-6f8f-4555-a2af-1c10b10b7d74",
   "metadata": {},
   "outputs": [],
   "source": [
    "url = \"https://exercisedb.p.rapidapi.com/exercises\"\n",
    "\n",
    "querystring = {\"limit\":\"2000\",\"offset\":\"0\"}\n",
    "\n",
    "headers = {\n",
    "\t\"x-rapidapi-key\": \"1df69cbc3bmsh6918f272bceaceap139562jsn9c474bf15421\",\n",
    "\t\"x-rapidapi-host\": \"exercisedb.p.rapidapi.com\"\n",
    "}\n",
    "\n",
    "response = requests.get(url, headers=headers, params=querystring)"
   ]
  },
  {
   "cell_type": "code",
   "execution_count": 4,
   "id": "663353d8-8579-4005-b35e-164ee91a1e06",
   "metadata": {},
   "outputs": [],
   "source": [
    "result = response.json()"
   ]
  },
  {
   "cell_type": "code",
   "execution_count": 30,
   "id": "f9441fa2-3437-4a0a-bc82-39604c99aca7",
   "metadata": {},
   "outputs": [
    {
     "data": {
      "text/plain": [
       "[{'bodyPart': 'waist',\n",
       "  'equipment': 'body weight',\n",
       "  'gifUrl': 'https://v2.exercisedb.io/image/rKz9ULsU97jL9d',\n",
       "  'id': '0001',\n",
       "  'name': '3/4 sit-up',\n",
       "  'target': 'abs',\n",
       "  'secondaryMuscles': ['hip flexors', 'lower back'],\n",
       "  'instructions': ['Lie flat on your back with your knees bent and feet flat on the ground.',\n",
       "   'Place your hands behind your head with your elbows pointing outwards.',\n",
       "   'Engaging your abs, slowly lift your upper body off the ground, curling forward until your torso is at a 45-degree angle.',\n",
       "   'Pause for a moment at the top, then slowly lower your upper body back down to the starting position.',\n",
       "   'Repeat for the desired number of repetitions.']},\n",
       " {'bodyPart': 'waist',\n",
       "  'equipment': 'body weight',\n",
       "  'gifUrl': 'https://v2.exercisedb.io/image/-fgNq3YlnZsJmg',\n",
       "  'id': '0002',\n",
       "  'name': '45° side bend',\n",
       "  'target': 'abs',\n",
       "  'secondaryMuscles': ['obliques'],\n",
       "  'instructions': ['Stand with your feet shoulder-width apart and your arms extended straight down by your sides.',\n",
       "   'Keeping your back straight and your core engaged, slowly bend your torso to one side, lowering your hand towards your knee.',\n",
       "   'Pause for a moment at the bottom, then slowly return to the starting position.',\n",
       "   'Repeat on the other side.',\n",
       "   'Continue alternating sides for the desired number of repetitions.']}]"
      ]
     },
     "execution_count": 30,
     "metadata": {},
     "output_type": "execute_result"
    }
   ],
   "source": [
    "result[0:2]"
   ]
  },
  {
   "cell_type": "code",
   "execution_count": 7,
   "id": "f1903693-900c-4148-bebf-012ae5bd78f8",
   "metadata": {},
   "outputs": [
    {
     "data": {
      "text/plain": [
       "1324"
      ]
     },
     "execution_count": 7,
     "metadata": {},
     "output_type": "execute_result"
    }
   ],
   "source": [
    "len(result)"
   ]
  },
  {
   "cell_type": "code",
   "execution_count": 25,
   "id": "3153101f-4c61-470c-a5d2-914d3103d9c9",
   "metadata": {},
   "outputs": [
    {
     "data": {
      "text/plain": [
       "{'back',\n",
       " 'cardio',\n",
       " 'chest',\n",
       " 'lower arms',\n",
       " 'lower legs',\n",
       " 'neck',\n",
       " 'shoulders',\n",
       " 'upper arms',\n",
       " 'upper legs',\n",
       " 'waist'}"
      ]
     },
     "execution_count": 25,
     "metadata": {},
     "output_type": "execute_result"
    }
   ],
   "source": [
    "unique_category = set([r['bodyPart'] for r in result])\n",
    "\n",
    "unique_category"
   ]
  },
  {
   "cell_type": "code",
   "execution_count": 36,
   "id": "705c7221-b277-413c-9a7c-abe0ef493fc1",
   "metadata": {},
   "outputs": [],
   "source": [
    "exercise_by_body_part = {}\n",
    "\n",
    "for r in result:\n",
    "    body_part = r['bodyPart']\n",
    "    if body_part not in exercise_by_body_part:\n",
    "        exercise_by_body_part[body_part] = []\n",
    "    exercise_by_body_part[body_part].append(r)\n",
    "# exercise_by_body_part"
   ]
  },
  {
   "cell_type": "code",
   "execution_count": 44,
   "id": "1c9c73e6-fe3b-433c-ad0b-3650509e26e5",
   "metadata": {},
   "outputs": [],
   "source": [
    "selected_exercises = []\n",
    "for k, v in exercise_by_body_part.items():\n",
    "    if len(v) <= 10:\n",
    "        selected_exercises.extend(v)\n",
    "    else:\n",
    "        selected_exercises.extend(random.sample(v, 11))"
   ]
  },
  {
   "cell_type": "code",
   "execution_count": 47,
   "id": "c4d84b06-7322-4a45-8a7b-3e1b62cf7feb",
   "metadata": {},
   "outputs": [
    {
     "data": {
      "text/plain": [
       "101"
      ]
     },
     "execution_count": 47,
     "metadata": {},
     "output_type": "execute_result"
    }
   ],
   "source": [
    "len(selected_exercises)"
   ]
  },
  {
   "cell_type": "code",
   "execution_count": 48,
   "id": "8f8337bb-eab6-4426-87fd-4838b2807b39",
   "metadata": {},
   "outputs": [],
   "source": [
    "result = selected_exercises"
   ]
  },
  {
   "cell_type": "code",
   "execution_count": 49,
   "id": "93efdf6d-3eba-4c76-b981-84da0f336908",
   "metadata": {},
   "outputs": [],
   "source": [
    "l = list(result[0].keys())"
   ]
  },
  {
   "cell_type": "code",
   "execution_count": 50,
   "id": "9a68cea1-2d43-45b1-95e0-7565ee6f591c",
   "metadata": {},
   "outputs": [
    {
     "data": {
      "text/plain": [
       "dict_keys(['bodyPart', 'equipment', 'gifUrl', 'id', 'name', 'target', 'secondaryMuscles', 'instructions'])"
      ]
     },
     "execution_count": 50,
     "metadata": {},
     "output_type": "execute_result"
    }
   ],
   "source": [
    "result[0].keys()"
   ]
  },
  {
   "cell_type": "code",
   "execution_count": 51,
   "id": "ee1831f2-c616-437e-8613-a2d6c8d78b41",
   "metadata": {},
   "outputs": [],
   "source": [
    "l[0] = 'categories'\n",
    "l[5] = 'target_muscle'"
   ]
  },
  {
   "cell_type": "code",
   "execution_count": 52,
   "id": "fc06f855-af37-4b17-9427-0e65cf9afed4",
   "metadata": {},
   "outputs": [
    {
     "data": {
      "text/plain": [
       "['categories',\n",
       " 'equipment',\n",
       " 'gifUrl',\n",
       " 'id',\n",
       " 'name',\n",
       " 'target_muscle',\n",
       " 'secondaryMuscles',\n",
       " 'instructions']"
      ]
     },
     "execution_count": 52,
     "metadata": {},
     "output_type": "execute_result"
    }
   ],
   "source": [
    "l"
   ]
  },
  {
   "cell_type": "code",
   "execution_count": 53,
   "id": "d849621c-b2b4-45cb-91dd-297d068d6846",
   "metadata": {},
   "outputs": [
    {
     "name": "stdout",
     "output_type": "stream",
     "text": [
      "/mnt/c/Users/alex2/Documents/cs474/project/2-web-app-garage1\n",
      "LICENSE\n",
      "README.md\n",
      "exercise_data.ipynb\n",
      "exercise_data.json\n",
      "images\n",
      "instructions.md\n",
      "/mnt/c/Users/alex2/Documents/cs474/project/2-web-app-garage1/images\n"
     ]
    }
   ],
   "source": [
    "%%bash\n",
    "pwd\n",
    "ls\n",
    "cd images\n",
    "pwd"
   ]
  },
  {
   "cell_type": "code",
   "execution_count": 54,
   "id": "2a91806f-c18d-49f0-b964-2eb755d5fbe9",
   "metadata": {},
   "outputs": [],
   "source": [
    "def clean_filename(name):\n",
    "    name = name.replace(' ', '_')\n",
    "    return re.sub(r'[^\\w\\-]', '', name)"
   ]
  },
  {
   "cell_type": "code",
   "execution_count": 55,
   "id": "433b103b-707a-4f78-81c0-07b0c12f566e",
   "metadata": {},
   "outputs": [
    {
     "name": "stdout",
     "output_type": "stream",
     "text": [
      "gif saved: flag.gif\n",
      "gif saved: seated_side_crunch_wall.gif\n",
      "gif saved: negative_crunch.gif\n",
      "gif saved: assisted_lying_leg_raise_with_throw_down.gif\n",
      "gif saved: band_v-up.gif\n",
      "gif saved: barbell_standing_twist.gif\n",
      "gif saved: assisted_lying_leg_raise_with_lateral_throw_down.gif\n",
      "gif saved: kneeling_plank_tap_shoulder_male.gif\n",
      "gif saved: kettlebell_figure_8.gif\n",
      "gif saved: lean_planche.gif\n",
      "gif saved: band_vertical_pallof_press.gif\n",
      "gif saved: roller_hip_stretch.gif\n",
      "gif saved: barbell_wide_squat.gif\n",
      "gif saved: band_lying_hip_internal_rotation.gif\n",
      "gif saved: dumbbell_stiff_leg_deadlift.gif\n",
      "gif saved: band_squat.gif\n",
      "gif saved: barbell_narrow_stance_squat.gif\n",
      "gif saved: exercise_ball_hip_flexor_stretch.gif\n",
      "gif saved: barbell_squat_jump_step_rear_lunge.gif\n",
      "gif saved: iron_cross_stretch.gif\n",
      "gif saved: dumbbell_sumo_pull_through.gif\n",
      "gif saved: barbell_glute_bridge.gif\n",
      "gif saved: dumbbell_reverse_grip_incline_bench_one_arm_row.gif\n",
      "gif saved: cable_pushdown_straight_arm_v_2.gif\n",
      "gif saved: smith_back_shrug.gif\n",
      "gif saved: cable_shrug.gif\n",
      "gif saved: upward_facing_dog.gif\n",
      "gif saved: bodyweight_standing_one_arm_row.gif\n",
      "gif saved: cable_one_arm_pulldown.gif\n",
      "gif saved: assisted_pull-up.gif\n",
      "gif saved: inverted_row_bent_knees.gif\n",
      "gif saved: cable_straight_back_seated_row.gif\n",
      "gif saved: smith_bent_over_row.gif\n",
      "gif saved: dumbbell_single_leg_calf_raise.gif\n",
      "gif saved: one_leg_donkey_calf_raise.gif\n",
      "gif saved: dumbbell_seated_one_leg_calf_raise_-_hammer_grip.gif\n",
      "gif saved: sled_lying_calf_press.gif\n",
      "gif saved: barbell_seated_calf_raise.gif\n",
      "gif saved: barbell_floor_calf_raise.gif\n",
      "gif saved: calf_push_stretch_with_hands_against_wall.gif\n",
      "gif saved: barbell_standing_rocking_leg_calf_raise.gif\n",
      "gif saved: single_leg_calf_raise_on_a_dumbbell.gif\n",
      "gif saved: ankle_circles.gif\n",
      "gif saved: band_two_legs_calf_raise_-_band_under_both_legs_v_2.gif\n",
      "gif saved: assisted_chest_dip_kneeling.gif\n",
      "gif saved: drop_push_up.gif\n",
      "gif saved: chest_dip_on_dip-pull-up_cage.gif\n",
      "gif saved: dumbbell_pullover_hip_extension_on_exercise_ball.gif\n",
      "gif saved: full_planche_push-up.gif\n",
      "gif saved: smith_incline_shoulder_raises.gif\n",
      "gif saved: cable_one_arm_lateral_bent-over.gif\n",
      "gif saved: smith_wide_grip_bench_press.gif\n",
      "gif saved: push-up_plus.gif\n",
      "gif saved: cable_one_arm_fly_on_exercise_ball.gif\n",
      "gif saved: kettlebell_extended_range_one_arm_press_on_floor.gif\n",
      "gif saved: cable_standing_pulldown_with_rope.gif\n",
      "gif saved: dumbbell_kneeling_bicep_curl_exercise_ball.gif\n",
      "gif saved: dumbbell_standing_triceps_extension.gif\n",
      "gif saved: dumbbell_peacher_hammer_curl.gif\n",
      "gif saved: dumbbell_incline_biceps_curl.gif\n",
      "gif saved: ez_bar_seated_close_grip_concentration_curl.gif\n",
      "gif saved: band_one_arm_overhead_biceps_curl.gif\n",
      "gif saved: cable_lying_bicep_curl.gif\n",
      "gif saved: dumbbell_tricep_kickback_with_stork_stance.gif\n",
      "gif saved: cable_triceps_pushdown_v-bar.gif\n",
      "gif saved: weighted_three_bench_dips.gif\n",
      "gif saved: back_and_forth_step.gif\n",
      "gif saved: half_knee_bends_male.gif\n",
      "gif saved: star_jump_male.gif\n",
      "gif saved: short_stride_run.gif\n",
      "gif saved: cycle_cross_trainer.gif\n",
      "gif saved: astride_jumps_male.gif\n",
      "gif saved: jack_burpee.gif\n",
      "gif saved: push_to_run.gif\n",
      "gif saved: walking_on_stepmill.gif\n",
      "gif saved: mountain_climber.gif\n",
      "gif saved: ski_step.gif\n",
      "gif saved: cable_seated_rear_lateral_raise.gif\n",
      "gif saved: band_shoulder_press.gif\n",
      "gif saved: kettlebell_one_arm_military_press_to_the_side.gif\n",
      "gif saved: barbell_front_raise.gif\n",
      "gif saved: dumbbell_seated_front_raise.gif\n",
      "gif saved: lever_shoulder_press_v_2.gif\n",
      "gif saved: dumbbell_seated_shoulder_press_parallel_grip.gif\n",
      "gif saved: band_standing_rear_delt_row.gif\n",
      "gif saved: dumbbell_lying_rear_lateral_raise.gif\n",
      "gif saved: dumbbell_one_arm_shoulder_press.gif\n",
      "gif saved: cable_lateral_raise.gif\n",
      "gif saved: dumbbell_seated_palms_up_wrist_curl.gif\n",
      "gif saved: barbell_palms_up_wrist_curl_over_a_bench.gif\n",
      "gif saved: dumbbell_over_bench_wrist_curl.gif\n",
      "gif saved: barbell_wrist_curl_v_2.gif\n",
      "gif saved: dumbbell_one_arm_wrist_curl.gif\n",
      "gif saved: dumbbell_finger_curls.gif\n",
      "gif saved: barbell_standing_back_wrist_curl.gif\n",
      "gif saved: dumbbell_lying_pronation_on_floor.gif\n",
      "gif saved: cable_wrist_curl.gif\n",
      "gif saved: wrist_circles.gif\n",
      "gif saved: dumbbell_reverse_wrist_curl.gif\n",
      "gif saved: neck_side_stretch.gif\n",
      "gif saved: side_push_neck_stretch.gif\n"
     ]
    }
   ],
   "source": [
    "dir = r'C:\\Users\\alex2\\Documents\\cs474\\project\\2-web-app-garage1\\images'\n",
    "\n",
    "for r in result:\n",
    "    gif_url = r['gifUrl']\n",
    "    gif_name = r['name']\n",
    "    \n",
    "    # print((gif_name, gif_url))\n",
    "    cleaned_filename = clean_filename(gif_name)\n",
    "    filename = f'{cleaned_filename}.gif'\n",
    "    path = os.path.join(dir, filename)\n",
    "    \n",
    "    response = requests.get(gif_url)\n",
    "    with open(path, 'wb') as f:\n",
    "        f.write(response.content)\n",
    "        print(f'gif saved: {filename}')"
   ]
  },
  {
   "cell_type": "code",
   "execution_count": 56,
   "id": "dd567f3c-3f6a-4d5e-8125-5589b9cc9d00",
   "metadata": {},
   "outputs": [
    {
     "name": "stdout",
     "output_type": "stream",
     "text": [
      "C:\\Users\\alex2\\Documents\\cs474\\project\\2-web-app-garage1\n",
      "C:\\Users\\alex2\\Documents\\cs474\\project\\2-web-app-garage1\\images\n"
     ]
    }
   ],
   "source": [
    "new_result = []\n",
    "\n",
    "base_dir = Path.cwd()\n",
    "images_dir = base_dir / 'images'\n",
    "\n",
    "print(base_dir)\n",
    "print(images_dir)\n",
    "\n",
    "for r in result:\n",
    "    new_dict = {'categories' if k == 'bodyPart' else 'target_muscle' if k == 'target' else 'gif_path' if k == 'gifUrl' else k:v for k, v in r.items()}\n",
    "    # print(new_dict)\n",
    "\n",
    "    gif_url = new_dict['gif_path']\n",
    "    gif_name = new_dict['name']\n",
    "\n",
    "    cleaned_filename = clean_filename(gif_name)\n",
    "    filename = f'{cleaned_filename}.gif'\n",
    "\n",
    "    file_path = images_dir / filename\n",
    "\n",
    "    relative_path = os.path.relpath(file_path, start=base_dir).replace('\\\\', '/')\n",
    "    new_dict['gif_path'] = relative_path \n",
    "    \n",
    "    # print(relative_path)\n",
    "    # print(new_dict)\n",
    "    \n",
    "    new_result.append(new_dict)"
   ]
  },
  {
   "cell_type": "code",
   "execution_count": 57,
   "id": "9757dfdc-5b3e-411c-aafc-2d93e3c025bf",
   "metadata": {},
   "outputs": [
    {
     "data": {
      "text/plain": [
       "101"
      ]
     },
     "execution_count": 57,
     "metadata": {},
     "output_type": "execute_result"
    }
   ],
   "source": [
    "len(new_result)"
   ]
  },
  {
   "cell_type": "code",
   "execution_count": 58,
   "id": "ecefcaa6-f91a-4108-bc14-85e0a7bcee35",
   "metadata": {},
   "outputs": [
    {
     "name": "stdout",
     "output_type": "stream",
     "text": [
      "C:\\Users\\alex2\\Documents\\cs474\\project\\2-web-app-garage1\\exercise_data.json\n"
     ]
    }
   ],
   "source": [
    "json_file = base_dir / 'exercise_data.json'\n",
    "\n",
    "print(json_file)\n",
    "with open(json_file, 'w', encoding='utf-8') as json_file:\n",
    "    json.dump(new_result, json_file, indent=4, ensure_ascii=False)"
   ]
  },
  {
   "cell_type": "code",
   "execution_count": null,
   "id": "ac284f5e-09a2-4ae4-9eba-5e36d8636ec9",
   "metadata": {},
   "outputs": [],
   "source": []
  }
 ],
 "metadata": {
  "kernelspec": {
   "display_name": "Python 3 (ipykernel)",
   "language": "python",
   "name": "python3"
  },
  "language_info": {
   "codemirror_mode": {
    "name": "ipython",
    "version": 3
   },
   "file_extension": ".py",
   "mimetype": "text/x-python",
   "name": "python",
   "nbconvert_exporter": "python",
   "pygments_lexer": "ipython3",
   "version": "3.11.1"
  }
 },
 "nbformat": 4,
 "nbformat_minor": 5
}
